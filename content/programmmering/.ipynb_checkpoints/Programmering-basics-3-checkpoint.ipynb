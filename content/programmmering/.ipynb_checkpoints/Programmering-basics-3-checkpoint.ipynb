{
 "cells": [
  {
   "cell_type": "markdown",
   "metadata": {},
   "source": [
    "**#** Variabler och Datatyper\n",
    "===\n",
    "\n",
    "Matematisk programmering i Python (Malmö delar)\n",
    "\n",
    "[Träff 1](https://sites.google.com/skola.malmo.se/programmeringsfortbildning/kursmaterial/tr%C3%A4ff-1)\n",
    "\n",
    "\n",
    "**#** Uppgifter\n",
    "---\n",
    "\n",
    "\n",
    "\n",
    "**#** Fördjupning\n",
    "---\n"
   ]
  }
 ],
 "metadata": {
  "kernelspec": {
   "display_name": "Python 3",
   "language": "python",
   "name": "python3"
  },
  "language_info": {
   "codemirror_mode": {
    "name": "ipython",
    "version": 3
   },
   "file_extension": ".py",
   "mimetype": "text/x-python",
   "name": "python",
   "nbconvert_exporter": "python",
   "pygments_lexer": "ipython3",
   "version": "3.6.2"
  }
 },
 "nbformat": 4,
 "nbformat_minor": 2
}
