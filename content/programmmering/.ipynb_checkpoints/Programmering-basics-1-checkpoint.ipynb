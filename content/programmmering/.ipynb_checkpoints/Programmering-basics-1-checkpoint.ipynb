{
 "cells": [
  {
   "cell_type": "markdown",
   "metadata": {},
   "source": [
    "*#* Introduktion till programmering\n",
    "===\n",
    "\n",
    "Att ta upp om programmering:\n",
    "\n",
    "- [Introduktion](#intro)\n",
    "- [Variabler och datatyper](Programmering-basics-2.ipynb)\n",
    "- [Aritmetiska operatorer]()\n",
    "- [Logiska påståenden och operatorer]()\n",
    "- [Selektion]()\n",
    "- [Iterationer]()\n",
    "- [Funktioner]()\n",
    "\n"
   ]
  },
  {
   "cell_type": "markdown",
   "metadata": {},
   "source": [
    "<a class=\"anchor\" id=\"intro\"></a>"
   ]
  },
  {
   "cell_type": "markdown",
   "metadata": {},
   "source": [
    "*##* Introduktion\n",
    "---\n",
    "\n",
    "Programmering innebär i all enkelhet att ge instruktioner som en dator kan utföra för att lösa en given uppgift\n",
    "\n",
    "I kursen kommer att användas imperativt programmeringsätt (instruktion för instruktion). Programmeringspråket kommer att vara Python3 och inriktningen kommer att vara mot matematisk programmering. Alltså hur progrmmmaeringkan användas för att lösa matematiska problem. Framförallt problem som beräkningsmässigt kan vara tidsödande att göra för hand och som låter datorernas beräkningspotential komma till sin fulla rätt. \n",
    "\n",
    "Python är ett dynamiskt interpreterat språk vilket innebär att variabler ej behöver typas och källkoden köra rad för rad utan att kompileras till maskkinkod innan körning. Deet innebär exempelvis att ett fel i syntaxen inte leder till ett **exekveringsfel** utan kör programmet fram till den punkten.\n",
    "\n",
    "Ett annat vanligt förekommande fel är **logiska fel**, alltså fel som tillåter programmet att löras igeonm utan oväntade stopp men där resultatet av programmet inte är en lösning på det avsedda problemet."
   ]
  },
  {
   "cell_type": "markdown",
   "metadata": {},
   "source": [
    "**##** Installering av python-mijön\n",
    "---\n",
    "\n",
    "Installering:\n",
    "\n",
    "- Ladda hem Anaconda-paketet med Python 3.6 64-bitars arkitektur från denna [hemsida](https://www.anaconda.com/download/#windows).\n",
    "- Kör installationsfilen (var uppmärksam på att den kan vilja installera ett tilläggspaket som går att tacka nej till)\n",
    "- installera Jupyter Lab genom att\n",
    "    - I windows startmeny leta upp mappen Anaconda3(64). I den mappen finns Anaconda promtp, starta den.\n",
    "    - I prompten skriv: \n",
    "        - ```conda install -c conda-forge jupyterlab```\n",
    "- Jupyter Notebook kan sedan startas från Anaconda3 mappen i startmenyn.\n",
    "- En ny webbsida kommer att öppnas. Bläddra till en lämplig mapp att skapa en ny notebook i.\n",
    "- Jupyter Labs kan valfritt öppnas om man i adressfönstret byter ut tree mot lab.\n",
    "- Jupyter Lab ger tillgång till en fullständigare utvecklingsmiljö."
   ]
  },
  {
   "cell_type": "markdown",
   "metadata": {},
   "source": [
    "**##** Magi\n",
    "---\n",
    "\n",
    "Jupyter Notebook ger oss tillgång till *magiska* kommandon. Följande kommer att användas i kursen. ? efter kommandot ger tillgång till hjälpen.\n",
    "\n",
    "- %%magic\n",
    "- %%lsmagic\n",
    "- %%run file.py\n",
    "- %%load file.py\n",
    "- %%writefile file.py\n",
    "- %%time\n",
    "- %%timeit\n",
    "- %%matplotlib inline"
   ]
  },
  {
   "cell_type": "code",
   "execution_count": 5,
   "metadata": {},
   "outputs": [
    {
     "data": {
      "text/plain": [
       "\u001b[1;31mDocstring:\u001b[0m\n",
       "Print information about the magic function system.\n",
       "\n",
       "Supported formats: -latex, -brief, -rest\n",
       "\u001b[1;31mFile:\u001b[0m      c:\\users\\sos012\\appdata\\local\\continuum\\anaconda3\\lib\\site-packages\\ipython\\core\\magics\\basic.py\n"
      ]
     },
     "metadata": {},
     "output_type": "display_data"
    }
   ],
   "source": [
    "%magic?"
   ]
  },
  {
   "cell_type": "markdown",
   "metadata": {},
   "source": [
    "**##** Jupyter Notebook\n",
    "---\n",
    "\n",
    "Jupyter Notebook är en programmerings-omgivning som körs lokalt på datorn men i en webbläsare. Omgivningen har fått en stor spridning på universitet och akademi där matematik används inom olika vetenskaper. Såsom dataanlys, statik, astronomi, fysik, biologi m.m.\n",
    "\n",
    "Notebooken har fil-ändelsen .ipynb och en öppnad fil består av celler. Det finns två typer av celler, \n",
    "\n",
    "- **markdown** (som tillåter formatering av text samt matematisk notation via latex märkning) och \n",
    "- **kod-celler** (som ger möjlighet att köra python-kod, från fil eller interaktivt som en terminal.\n",
    "\n",
    "Python-kod sparas vanligen i text-filer med fil-ändelsen.py men cellerna möjliggör att antingen köra kod direkt eller från en fil."
   ]
  },
  {
   "cell_type": "code",
   "execution_count": 6,
   "metadata": {},
   "outputs": [
    {
     "data": {
      "text/plain": [
       "15"
      ]
     },
     "execution_count": 6,
     "metadata": {},
     "output_type": "execute_result"
    }
   ],
   "source": [
    "#Följande tre kodceller exempel på hur kod kan köras\n",
    "#\n",
    "#Alt 1\n",
    "\n",
    "a = 5\n",
    "b = 10\n",
    "a+b"
   ]
  },
  {
   "cell_type": "code",
   "execution_count": 14,
   "metadata": {},
   "outputs": [
    {
     "name": "stdout",
     "output_type": "stream",
     "text": [
      "Overwriting test.py\n"
     ]
    }
   ],
   "source": [
    "%%writefile test.py\n",
    "\n",
    "a = 5\n",
    "b = 10\n",
    "print(a / b)"
   ]
  },
  {
   "cell_type": "code",
   "execution_count": 15,
   "metadata": {},
   "outputs": [
    {
     "data": {
      "text/plain": [
       "50"
      ]
     },
     "execution_count": 15,
     "metadata": {},
     "output_type": "execute_result"
    }
   ],
   "source": [
    "# %load test.py\n",
    "\n",
    "a = 5\n",
    "b = 10\n",
    "a * b"
   ]
  },
  {
   "cell_type": "code",
   "execution_count": 16,
   "metadata": {},
   "outputs": [
    {
     "name": "stdout",
     "output_type": "stream",
     "text": [
      "0.5\n"
     ]
    }
   ],
   "source": [
    "%run test.py"
   ]
  }
 ],
 "metadata": {
  "kernelspec": {
   "display_name": "Python 3",
   "language": "python",
   "name": "python3"
  },
  "language_info": {
   "codemirror_mode": {
    "name": "ipython",
    "version": 3
   },
   "file_extension": ".py",
   "mimetype": "text/x-python",
   "name": "python",
   "nbconvert_exporter": "python",
   "pygments_lexer": "ipython3",
   "version": "3.6.2"
  }
 },
 "nbformat": 4,
 "nbformat_minor": 2
}
