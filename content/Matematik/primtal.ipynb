{
 "cells": [
  {
   "cell_type": "markdown",
   "metadata": {},
   "source": [
    "## Primtal ##\n",
    "\n",
    "Primtal är en av de fundamentala byggstenarna inom de område som heter talteori i Matematiken. Egenskapern har i och med introduktionen av datorerna från sent 1900-tal och framåt fått ett rejält uppsving. Primtalen används i allt från prestandatestning till kanske den viktigaste tilläpningen där de används till kryptering mellan sändare och mottagare på internet.\n",
    "\n",
    "Men låt oss börja med en defintion.\n",
    ">**Definition:**\n",
    ">Primtal är ett positivt heltal som endast är delbart med sig själv och talet ett.\n",
    "\n",
    "\n",
    "Test om ett tal är ett heltal eller inte. Det enklaste testet som går att gör är att kontrollera om talet är delbart med något av alla tal som är mindre än talet. I python kan koden exempelvis se ut som:\n",
    "\n",
    "```python\n",
    "def PrimtalsTest(n):\n",
    "    for i in range(n):\n",
    "        if (n % i == 0):\n",
    "            print(i)\n",
    "```\n",
    "\n",
    "Algoritmen ovanför testar om ett givet tal n får en rest vid division med talet i. I så fall skrivs talet i ut. Vid test av talet 16 kan en körning se ut som nedan."
   ]
  },
  {
   "cell_type": "code",
   "execution_count": 106,
   "metadata": {},
   "outputs": [
    {
     "name": "stdout",
     "output_type": "stream",
     "text": [
      "270 ms ± 2.52 ms per loop (mean ± std. dev. of 7 runs, 1 loop each)\n"
     ]
    }
   ],
   "source": [
    "%%timeit\n",
    "#%save file\n",
    "\n",
    "def primtalsTest1(n):\n",
    "    for i in range(2,n):\n",
    "        if (n % i == 0):\n",
    "            #print(i)\n",
    "            return False\n",
    "    return True\n",
    "\n",
    "\n",
    "#kör funktionen för alla taö mellan 2 och 50 000\n",
    "for n in range(2,5000):\n",
    "    #print(n, primtalsTest1(n))\n",
    "    primtalsTest1(n)"
   ]
  },
  {
   "cell_type": "markdown",
   "metadata": {},
   "source": [
    "Algoritmen ovanför är relativt ineffektiv. Den kan göras snabbare genom att göra smarta val för vilka tal som testas. Exempelvis\n",
    "\n",
    "- testa inte jämna tal. Det enda jämna tal som är ett primtal är 2.\n",
    "- testa inte alla tal som är mindre än talet. Det räcker att gå till roten ur talet\n",
    "- test bara udda tal.\n",
    "\n",
    "En algoritm som implementerar detta kan se ut som följande."
   ]
  },
  {
   "cell_type": "code",
   "execution_count": 107,
   "metadata": {},
   "outputs": [
    {
     "name": "stdout",
     "output_type": "stream",
     "text": [
      "11.4 ms ± 603 µs per loop (mean ± std. dev. of 7 runs, 100 loops each)\n"
     ]
    }
   ],
   "source": [
    "%%timeit\n",
    "\n",
    "import math\n",
    "\n",
    "def primtalsTest2(n):\n",
    "    if n == 2:\n",
    "        return True\n",
    "    if n % 2 == 0:\n",
    "        return False\n",
    "    n_root = math.ceil(math.sqrt(n))\n",
    "    \n",
    "    for i in range(3,n_root,2):\n",
    "        if (n % i == 0):\n",
    "            return False\n",
    "    return True\n",
    "\n",
    "for n in range(2,5000):\n",
    "    #print(n, primtalsTest2(n))\n",
    "    primtalsTest2(n)\n"
   ]
  },
  {
   "cell_type": "markdown",
   "metadata": {},
   "source": [
    "Det finns några ytterligare förbättringar man kan göra för att snabba upp algoritmen ytterligare. [1]\n",
    "\n",
    "I nästa artikel ska vi använda denn algoritm för att hitta delare till ett tal, resten av denna artikel kommer att ägnas åt distributionen av primtal. Styrkan med datorer är deras överlägsna beräkningshastighet så låt oss använda den för att undersöka hur primtalen fördelar sig.\n",
    "\n",
    "Tänk en funktion $\\Pi(n)$ som ger antalet primtal mindre än talet $n$. Gör vi det för de 100 första heltalen så erhålls följande tabell. \n",
    "\n",
    "| $n$           | $\\Pi$     |\n",
    "| ------------- |:-------------:|\n",
    "| 10            | 4             |\n",
    "| 50            | 15            |\n",
    "| 100           | 25            |\n",
    "\n",
    "\n",
    "En funktion som löser detta problem kan se ut som följande. Vi plottar upp funktionen för lite större datamängder och undersöker hur de ser ut.\n",
    "\n",
    "[1]: [Primality Tests](https://en.wikipedia.org/wiki/Primality_test)"
   ]
  },
  {
   "cell_type": "code",
   "execution_count": 105,
   "metadata": {},
   "outputs": [
    {
     "data": {
      "text/plain": [
       "[<matplotlib.lines.Line2D at 0x27c156089b0>]"
      ]
     },
     "execution_count": 105,
     "metadata": {},
     "output_type": "execute_result"
    },
    {
     "data": {
      "image/png": "[encoded data removed]",
      "text/plain": [
       "<matplotlib.figure.Figure at 0x27c140f09b0>"
      ]
     },
     "metadata": {},
     "output_type": "display_data"
    }
   ],
   "source": [
    "import matplotlib.pyplot as py\n",
    "%matplotlib inline\n",
    "\n",
    "def primeCounter(n):\n",
    "    sum = 0\n",
    "    for n in range(2, n+1):\n",
    "        if primtalsTest2(n):\n",
    "            sum += 1\n",
    "    return sum\n",
    "\n",
    "xs = [10*x for x in range(1, 100)]\n",
    "ys = [primeCounter(10*x) for x in range(1,100)]\n",
    "\n",
    "py.plot(xs, ys)"
   ]
  },
  {
   "cell_type": "markdown",
   "metadata": {},
   "source": [
    "Slut på artikeln.\n",
    "\n",
    "//[SoS]({author}Stefan Sollander)\n",
    "\n",
    "[Startsidan]({index}Startsidan)"
   ]
  }
 ],
 "metadata": {
  "kernelspec": {
   "display_name": "Python 3",
   "language": "python",
   "name": "python3"
  },
  "language_info": {
   "codemirror_mode": {
    "name": "ipython",
    "version": 3
   },
   "file_extension": ".py",
   "mimetype": "text/x-python",
   "name": "python",
   "nbconvert_exporter": "python",
   "pygments_lexer": "ipython3",
   "version": "3.6.2"
  }
 },
 "nbformat": 4,
 "nbformat_minor": 2
}
