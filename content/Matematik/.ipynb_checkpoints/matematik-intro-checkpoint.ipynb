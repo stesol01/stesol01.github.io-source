{
 "cells": [
  {
   "cell_type": "markdown",
   "metadata": {},
   "source": [
    "**#** Matematik - En kort introduktion\n",
    "===\n",
    "\n",
    "En kortbeskrivning av vad som kommer att tas upp i kursen. En kort introduktion till nedanstående biblitek kommer att ges genom exempel.\n",
    "\n",
    "- numpy\n",
    "- scipy\n",
    "- sympy\n",
    "- matplotlib/plotly\n",
    "\n",
    "I övrigt kommer problem kopplade till gymnasiets matematik och fysikkurser att användas för att introducera och ge tilläpningar på biblioteken."
   ]
  },
  {
   "cell_type": "markdown",
   "metadata": {},
   "source": [
    "**##** Problem\n",
    "---\n",
    "\n",
    "Några problem som kommer att tas upp i kursen:\n",
    "\n",
    "- [Primtalsfaktorisering](primtal.ipynb)\n",
    "- Delare till tal\n",
    "- Hitta kvadratrötter och kubikrötter\n",
    "- Talbaser\n",
    "- Statistiska lägesmått\n",
    "- Statistiska spridningsmått\n",
    "- Beräkna ett närmevärde på $\\pi$ mha Monte Carlo metoder\n",
    "- Beräkna ett närmevärde på $\\pi$ serieutveckling\n",
    "- Regressioner\n",
    "- Newton Raphsons metod för att lösa ekvationer\n",
    "- Intervall halvering\n",
    "- RSA - implementering\n",
    "- Enkla krypteringar\n",
    "- Största gemensamma delare och Minsta gemensamma multipel\n",
    "- Modeller mha differentialekvationer\n",
    "- Numerisk beräkning av derivator\n",
    "- Numerisk beräkning av integraler\n",
    "- Eulers stegmetod\n",
    "- Numerisk lösning av diff ekv första och andra ordningen\n",
    "- Maclaurinutecklingar\n",
    "- Räknarens fkn för trig, rot och log\n",
    "- Kombinatoriska problem\n",
    "- Grafer som datatyp och matematisk representation.\n",
    "- Matematik och gymnasiearbete\n",
    "- ..."
   ]
  }
 ],
 "metadata": {
  "kernelspec": {
   "display_name": "Python 3",
   "language": "python",
   "name": "python3"
  },
  "language_info": {
   "codemirror_mode": {
    "name": "ipython",
    "version": 3
   },
   "file_extension": ".py",
   "mimetype": "text/x-python",
   "name": "python",
   "nbconvert_exporter": "python",
   "pygments_lexer": "ipython3",
   "version": "3.6.2"
  }
 },
 "nbformat": 4,
 "nbformat_minor": 2
}
