{
 "cells": [
  {
   "cell_type": "markdown",
   "metadata": {},
   "source": [
    "*#* Introduktion till programmering\n",
    "===\n",
    "\n",
    "Att ta upp om programmering:\n",
    "\n",
    "- [Introduktion](#intro)\n",
    "- [Variabler och datatyper](Programmering-basics-2.ipynb)\n",
    "- [Aritmetiska operatorer]()\n",
    "- [Logiska påståenden och operatorer]()\n",
    "- [Selektion]()\n",
    "- [Iterationer]()\n",
    "- [Funktioner]()\n",
    "\n"
   ]
  },
  {
   "cell_type": "markdown",
   "metadata": {},
   "source": [
    "<a class=\"anchor\" id=\"intro\"></a>"
   ]
  },
  {
   "cell_type": "markdown",
   "metadata": {},
   "source": [
    "*##* Introduktion\n",
    "---\n",
    "\n",
    "Programmering innebär i all enkelhet att ge instruktioner som en dator kan utföra för att lösa en given uppgift\n",
    "\n",
    "I kursen kommer att användas imperativt programmering (instruktion för instruktion). Programmeringspråket kommer att vara Python3. Python är ett dynamiskt interpreterat språk vilket innebär att variabler ej behöver typas och källkoden köra rad för rad utan att kompileras till maskkinkod innan körning."
   ]
  },
  {
   "cell_type": "code",
   "execution_count": 3,
   "metadata": {},
   "outputs": [
    {
     "name": "stdout",
     "output_type": "stream",
     "text": [
      "10\n"
     ]
    }
   ],
   "source": [
    "a = 5\n",
    "b = 2\n",
    "a = a * b\n",
    "print(a)"
   ]
  }
 ],
 "metadata": {
  "kernelspec": {
   "display_name": "Python 3",
   "language": "python",
   "name": "python3"
  },
  "language_info": {
   "codemirror_mode": {
    "name": "ipython",
    "version": 3
   },
   "file_extension": ".py",
   "mimetype": "text/x-python",
   "name": "python",
   "nbconvert_exporter": "python",
   "pygments_lexer": "ipython3",
   "version": "3.6.2"
  }
 },
 "nbformat": 4,
 "nbformat_minor": 2
}
